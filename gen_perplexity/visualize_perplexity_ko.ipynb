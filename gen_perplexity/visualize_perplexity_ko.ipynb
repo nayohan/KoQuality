{
 "cells": [
  {
   "cell_type": "code",
   "execution_count": 1,
   "metadata": {},
   "outputs": [
    {
     "name": "stderr",
     "output_type": "stream",
     "text": [
      "/home/uj-user/Yo/HiT5/HCLT/hclt-venv/lib/python3.8/site-packages/tqdm/auto.py:21: TqdmWarning: IProgress not found. Please update jupyter and ipywidgets. See https://ipywidgets.readthedocs.io/en/stable/user_install.html\n",
      "  from .autonotebook import tqdm as notebook_tqdm\n"
     ]
    },
    {
     "name": "stdout",
     "output_type": "stream",
     "text": [
      "[2023-09-08 12:59:57,293] [INFO] [real_accelerator.py:158:get_accelerator] Setting ds_accelerator to cuda (auto detect)\n"
     ]
    }
   ],
   "source": [
    "from datasets import load_dataset\n",
    "from transformers import AutoModelForMaskedLM, AutoTokenizer\n",
    "from evaluate import load\n",
    "\n",
    "import seaborn as sns\n",
    "import matplotlib.pyplot as plt\n",
    "import pandas as pd\n",
    "\n",
    "import os\n",
    "os.environ[\"CUDA_VISIBLE_DEVICES\"] = \"3\""
   ]
  },
  {
   "cell_type": "code",
   "execution_count": 2,
   "metadata": {},
   "outputs": [
    {
     "name": "stdout",
     "output_type": "stream",
     "text": [
      "DatasetDict({\n",
      "    train: Dataset({\n",
      "        features: ['id', 'instruction', 'input', 'output'],\n",
      "        num_rows: 152630\n",
      "    })\n",
      "})\n",
      "어려운 결정을 내려야 했던 순간을 설명해 주세요.\n",
      "DatasetDict({\n",
      "    train: Dataset({\n",
      "        features: ['instruction', 'output', 'url'],\n",
      "        num_rows: 21155\n",
      "    })\n",
      "})\n",
      "스웨터의 유래는 어디에서 시작되었나요?\n"
     ]
    }
   ],
   "source": [
    "kullm_dataset = load_dataset('nlpai-lab/kullm-v2')\n",
    "print(kullm_dataset)\n",
    "print(kullm_dataset['train']['instruction'][1])\n",
    "\n",
    "koalpaca_dataset = load_dataset('beomi/KoAlpaca-v1.1a')\n",
    "print(koalpaca_dataset)\n",
    "print(koalpaca_dataset['train']['instruction'][1])"
   ]
  },
  {
   "cell_type": "code",
   "execution_count": 7,
   "metadata": {},
   "outputs": [
    {
     "name": "stderr",
     "output_type": "stream",
     "text": [
      "Filter (num_proc=24): 100%|██████████| 152630/152630 [00:00<00:00, 740875.70 examples/s]\n",
      "Filter (num_proc=24): 100%|██████████| 21155/21155 [00:00<00:00, 153061.74 examples/s]\n",
      "Map (num_proc=24): 100%|██████████| 151424/151424 [00:02<00:00, 56042.89 examples/s]\n",
      "Map (num_proc=24): 100%|██████████| 21155/21155 [00:00<00:00, 69239.24 examples/s]\n",
      "Filter (num_proc=24): 100%|██████████| 151424/151424 [00:01<00:00, 80498.37 examples/s] \n",
      "Filter (num_proc=24): 100%|██████████| 21155/21155 [00:00<00:00, 74722.00 examples/s] "
     ]
    },
    {
     "name": "stdout",
     "output_type": "stream",
     "text": [
      "Dataset({\n",
      "    features: ['id', 'instruction', 'input', 'output', 'input_ids', 'attention_mask'],\n",
      "    num_rows: 144070\n",
      "})\n",
      "Dataset({\n",
      "    features: ['instruction', 'output', 'url', 'input_ids', 'attention_mask'],\n",
      "    num_rows: 21151\n",
      "})\n"
     ]
    },
    {
     "name": "stderr",
     "output_type": "stream",
     "text": [
      "\n"
     ]
    }
   ],
   "source": [
    "tokenizer = AutoTokenizer.from_pretrained('GPT2')\n",
    "tokenizer.add_special_tokens({'pad_token': '[PAD]'})\n",
    "\n",
    "# filtering under 0 token length\n",
    "kullm_dataset = kullm_dataset.filter(lambda example: len(example['instruction'])>0+text_range[0], num_proc=24)\n",
    "koalpaca_dataset = koalpaca_dataset.filter(lambda example: len(example['instruction'])>0+text_range[0], num_proc=24)\n",
    "\n",
    "# kullm_dataset = kullm_dataset.filter(lambda example: len(example['instruction'])<text_range[1], num_proc=24)\n",
    "# koalpaca_dataset = koalpaca_dataset.filter(lambda example: len(example['instruction'])<text_range[1], num_proc=24)\n",
    "\n",
    "\n",
    "# filtering over 1024 token length\n",
    "def preprocess(examples):\n",
    "    return tokenizer(examples['instruction'])#, padding=True, return_tensors='pt')\n",
    "trunc_kullm = kullm_dataset['train'].map(preprocess, batched=True, num_proc=24)\n",
    "trunc_koalpaca = koalpaca_dataset['train'].map(preprocess, batched=True, num_proc=24)\n",
    "\n",
    "kullm = trunc_kullm.filter(lambda example: len(example['input_ids'])<=1024, num_proc=24)\n",
    "koalpaca = trunc_koalpaca.filter(lambda example: len(example['input_ids'])<=1024, num_proc=24)\n",
    "print(kullm)\n",
    "print(koalpaca)"
   ]
  },
  {
   "cell_type": "code",
   "execution_count": 8,
   "metadata": {},
   "outputs": [
    {
     "name": "stderr",
     "output_type": "stream",
     "text": [
      "/home/uj-user/Yo/HiT5/HCLT/hclt-venv/lib/python3.8/site-packages/seaborn/axisgrid.py:118: UserWarning: The figure layout has changed to tight\n",
      "  self._figure.tight_layout(*args, **kwargs)\n"
     ]
    },
    {
     "data": {
      "text/plain": [
       "<seaborn.axisgrid.FacetGrid at 0x7f013afc56a0>"
      ]
     },
     "execution_count": 8,
     "metadata": {},
     "output_type": "execute_result"
    },
    {
     "data": {
      "image/png": "[encoded data removed]",
      "text/plain": [
       "<Figure size 500x500 with 1 Axes>"
      ]
     },
     "metadata": {},
     "output_type": "display_data"
    }
   ],
   "source": [
    "sns.displot([len(t) for t in koalpaca['input_ids']])"
   ]
  },
  {
   "cell_type": "code",
   "execution_count": 6,
   "metadata": {},
   "outputs": [
    {
     "data": {
      "application/vnd.jupyter.widget-view+json": {
       "model_id": "c028cf48c16341df9bb9b44ba90df35e",
       "version_major": 2,
       "version_minor": 0
      },
      "text/plain": [
       "Map (num_proc=24):   0%|          | 0/144070 [00:00<?, ? examples/s]"
      ]
     },
     "metadata": {},
     "output_type": "display_data"
    },
    {
     "data": {
      "application/vnd.jupyter.widget-view+json": {
       "model_id": "6215eb5f84f04661b60f7aa2952a1b9e",
       "version_major": 2,
       "version_minor": 0
      },
      "text/plain": [
       "Map (num_proc=24):   0%|          | 0/21151 [00:00<?, ? examples/s]"
      ]
     },
     "metadata": {},
     "output_type": "display_data"
    },
    {
     "data": {
      "application/vnd.jupyter.widget-view+json": {
       "model_id": "699c218e30764d50827db478f0f0fee2",
       "version_major": 2,
       "version_minor": 0
      },
      "text/plain": [
       "Map (num_proc=48):   0%|          | 0/144070 [00:00<?, ? examples/s]"
      ]
     },
     "metadata": {},
     "output_type": "display_data"
    },
    {
     "data": {
      "application/vnd.jupyter.widget-view+json": {
       "model_id": "ba8e3bef82894d158ac34d1187c185ca",
       "version_major": 2,
       "version_minor": 0
      },
      "text/plain": [
       "Map (num_proc=48):   0%|          | 0/21151 [00:00<?, ? examples/s]"
      ]
     },
     "metadata": {},
     "output_type": "display_data"
    },
    {
     "name": "stdout",
     "output_type": "stream",
     "text": [
      "Dataset({\n",
      "    features: ['id', 'instruction', 'input', 'output', 'input_ids', 'attention_mask', 'trunc_instruction'],\n",
      "    num_rows: 144070\n",
      "})\n",
      "Dataset({\n",
      "    features: ['instruction', 'output', 'url', 'input_ids', 'attention_mask', 'trunc_instruction'],\n",
      "    num_rows: 21151\n",
      "})\n"
     ]
    }
   ],
   "source": [
    "# truncate max length, add padding true\n",
    "def preprocess(examples):\n",
    "    return tokenizer(examples['instruction'], max_length=1024, truncation=True, padding=True, return_tensors='pt')\n",
    "\n",
    "trunc_kullm = kullm.map(preprocess, batched=True, num_proc=24)\n",
    "trunc_koalpaca = koalpaca.map(preprocess, batched=True, num_proc=24)\n",
    "\n",
    "# extract truncated sentence max_length 1024\n",
    "def decode_process(examples):\n",
    "    return {'trunc_instruction': tokenizer.decode(examples['input_ids'], skip_special_tokens=True)}\n",
    "\n",
    "kullm = trunc_kullm.map(decode_process, num_proc=48)\n",
    "koalpaca = trunc_koalpaca.map(decode_process, num_proc=48)\n",
    "print(kullm)\n",
    "print(koalpaca)\n",
    "\n",
    "# shuffle dataset (kullm dataset didn't shuffled)\n",
    "kullm = kullm.shuffle(seed=42)\n",
    "koalpaca = koalpaca.shuffle(seed=42)"
   ]
  },
  {
   "cell_type": "code",
   "execution_count": 7,
   "metadata": {},
   "outputs": [
    {
     "data": {
      "text/plain": [
       "<seaborn.axisgrid.FacetGrid at 0x7f7a9aa07f70>"
      ]
     },
     "execution_count": 7,
     "metadata": {},
     "output_type": "execute_result"
    },
    {
     "data": {
      "image/png": "[encoded data removed]",
      "text/plain": [
       "<Figure size 500x500 with 1 Axes>"
      ]
     },
     "metadata": {},
     "output_type": "display_data"
    }
   ],
   "source": [
    "sns.displot([len(t) for t in koalpaca['trunc_instruction']])"
   ]
  },
  {
   "cell_type": "code",
   "execution_count": 8,
   "metadata": {},
   "outputs": [
    {
     "data": {
      "text/plain": [
       "Dataset({\n",
       "    features: ['instruction', 'output', 'url', 'input_ids', 'attention_mask', 'trunc_instruction'],\n",
       "    num_rows: 21151\n",
       "})"
      ]
     },
     "execution_count": 8,
     "metadata": {},
     "output_type": "execute_result"
    }
   ],
   "source": [
    "koalpaca"
   ]
  },
  {
   "cell_type": "markdown",
   "metadata": {},
   "source": []
  },
  {
   "cell_type": "code",
   "execution_count": 10,
   "metadata": {},
   "outputs": [
    {
     "data": {
      "text/plain": [
       "21151"
      ]
     },
     "execution_count": 10,
     "metadata": {},
     "output_type": "execute_result"
    }
   ],
   "source": [
    "len(koalpaca['trunc_instruction'])"
   ]
  },
  {
   "cell_type": "code",
   "execution_count": 9,
   "metadata": {},
   "outputs": [
    {
     "name": "stderr",
     "output_type": "stream",
     "text": [
      "Using pad_token, but it is not set yet.\n"
     ]
    },
    {
     "data": {
      "application/vnd.jupyter.widget-view+json": {
       "model_id": "b1bc4424eb1c4d1d9c7d85e2150e986a",
       "version_major": 2,
       "version_minor": 0
      },
      "text/plain": [
       "  0%|          | 0/1322 [00:00<?, ?it/s]"
      ]
     },
     "metadata": {},
     "output_type": "display_data"
    }
   ],
   "source": [
    "perplexity = load(\"perplexity\", module_type=\"metric\")\n",
    "max_sent_num = len(koalpaca['trunc_instruction'])\n",
    "input_kullm = kullm['trunc_instruction']#[:max_sent_num]\n",
    "len_kullm = [len(text) for text in input_kullm]\n",
    "\n",
    "input_koalpaca = koalpaca['trunc_instruction']#[:max_sent_num]\n",
    "len_koalpaca = [len(text) for text in input_koalpaca]\n",
    "\n",
    "# kullm_results = perplexity.compute(model_id='gpt2', add_start_token=True, predictions=input_kullm)\n",
    "koalpaca_results = perplexity.compute(model_id='gpt2', add_start_token=True, predictions=input_koalpaca)"
   ]
  },
  {
   "cell_type": "code",
   "execution_count": 129,
   "metadata": {},
   "outputs": [],
   "source": [
    "filter_koalpaca_ppl = list(filter(lambda x:x<300, koalpaca_results['perplexities']))\n",
    "filter_kullm_ppl = list(filter(lambda x:x<300, kullm_results['perplexities']))"
   ]
  },
  {
   "cell_type": "code",
   "execution_count": 130,
   "metadata": {},
   "outputs": [
    {
     "data": {
      "text/plain": [
       "(0.0, 30.0)"
      ]
     },
     "execution_count": 130,
     "metadata": {},
     "output_type": "execute_result"
    },
    {
     "data": {
      "image/png": "[encoded data removed]",
      "text/plain": [
       "<Figure size 612.375x500 with 1 Axes>"
      ]
     },
     "metadata": {},
     "output_type": "display_data"
    }
   ],
   "source": [
    "p = sns.displot({'koalpaca':filter_koalpaca_ppl, 'KullmV2':filter_kullm_ppl})\n",
    "p.set(title=f\"Perplexity / text_range:{text_range} / num: {max_sent_num}\")\n",
    "plt.xlim(0,30)"
   ]
  },
  {
   "cell_type": "code",
   "execution_count": 131,
   "metadata": {},
   "outputs": [
    {
     "data": {
      "text/plain": [
       "<seaborn.axisgrid.FacetGrid at 0x7f89f6fe8af0>"
      ]
     },
     "execution_count": 131,
     "metadata": {},
     "output_type": "execute_result"
    },
    {
     "data": {
      "image/png": "[encoded data removed]",
      "text/plain": [
       "<Figure size 612.375x500 with 1 Axes>"
      ]
     },
     "metadata": {},
     "output_type": "display_data"
    }
   ],
   "source": [
    "p = sns.displot({'koalpaca':len_koalpaca, 'KullmV2':len_kullm})\n",
    "p.set(title=f'Text Length : {text_range}')\n",
    "# plt.xlim(0,3 00)"
   ]
  },
  {
   "cell_type": "code",
   "execution_count": 132,
   "metadata": {},
   "outputs": [],
   "source": [
    "dict_koalpaca = dict(zip([round(ppl, 2) for ppl in  koalpaca_results['perplexities']], input_koalpaca))\n",
    "df_koalpaca = pd.DataFrame(sorted(dict_koalpaca.items(), key=lambda x: x[0]), columns=['ppl','text'])\n",
    "\n",
    "dict_kullm = dict(zip([round(ppl, 2) for ppl in  kullm_results['perplexities']], input_kullm))\n",
    "df_kullm = pd.DataFrame(sorted(dict_kullm.items(), key=lambda x: x[0]), columns=['ppl','text'])\n",
    "\n",
    "df_koalpaca.to_json(f'koalpaca_{text_range[0]}_{text_range[1]}.json', orient='records', lines=True, force_ascii=False)\n",
    "df_kullm.to_json(f'kullm_{text_range[0]}_{text_range[1]}.json', orient='records', lines=True, force_ascii=False)"
   ]
  },
  {
   "cell_type": "code",
   "execution_count": null,
   "metadata": {},
   "outputs": [],
   "source": []
  },
  {
   "cell_type": "markdown",
   "metadata": {},
   "source": []
  },
  {
   "cell_type": "code",
   "execution_count": null,
   "metadata": {},
   "outputs": [],
   "source": []
  },
  {
   "cell_type": "code",
   "execution_count": null,
   "metadata": {},
   "outputs": [],
   "source": []
  }
 ],
 "metadata": {
  "kernelspec": {
   "display_name": "hi-venv",
   "language": "python",
   "name": "python3"
  },
  "language_info": {
   "codemirror_mode": {
    "name": "ipython",
    "version": 3
   },
   "file_extension": ".py",
   "mimetype": "text/x-python",
   "name": "python",
   "nbconvert_exporter": "python",
   "pygments_lexer": "ipython3",
   "version": "3.8.10"
  },
  "orig_nbformat": 4
 },
 "nbformat": 4,
 "nbformat_minor": 2
}
