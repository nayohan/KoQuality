{
 "cells": [
  {
   "cell_type": "code",
   "execution_count": 14,
   "metadata": {},
   "outputs": [],
   "source": [
    "from glob import glob\n",
    "import pandas as pd\n",
    "import seaborn as sns\n",
    "\n",
    "file_path = '/home/uj-user/Yo/HiT5/HCLT/gen_perplexity/result_ppl/'"
   ]
  },
  {
   "cell_type": "code",
   "execution_count": 2,
   "metadata": {},
   "outputs": [],
   "source": [
    "df_ppl_gpt2 = pd.read_json(f'{file_path}/koquality_raw_ppl_gpt2.json', lines=True, orient='record')\n",
    "df_ppl_polyglot = pd.read_json(f'{file_path}/koquality_raw_ppl_polyglot-ko-1.3b.json', lines=True, orient='record')"
   ]
  },
  {
   "cell_type": "code",
   "execution_count": 11,
   "metadata": {},
   "outputs": [],
   "source": [
    "df_ppl_gpt2['instruction'] = df_ppl_gpt2['instruction'].apply(lambda x:x.strip())\n",
    "df_ppl_polyglot['instruction'] = df_ppl_polyglot['instruction'].apply(lambda x:x.strip())"
   ]
  },
  {
   "cell_type": "code",
   "execution_count": 12,
   "metadata": {},
   "outputs": [],
   "source": [
    "df_ppl_gpt2['len'] = df_ppl_gpt2['len'].apply(lambda x:x-1)\n",
    "df_ppl_polyglot['len'] = df_ppl_polyglot['len'].apply(lambda x:x-1)"
   ]
  },
  {
   "cell_type": "code",
   "execution_count": 13,
   "metadata": {},
   "outputs": [],
   "source": [
    "df_ppl_polyglot.to_json(f'{file_path}/koquality_raw_ppl_gpt2_nospace.json', orient='records', lines=True, force_ascii=False)\n",
    "df_ppl_polyglot.to_json(f'{file_path}/koquality_raw_ppl_polyglot-ko-1.3b_nospace.json', orient='records', lines=True, force_ascii=False)"
   ]
  },
  {
   "cell_type": "code",
   "execution_count": null,
   "metadata": {},
   "outputs": [],
   "source": []
  }
 ],
 "metadata": {
  "kernelspec": {
   "display_name": "hclt-venv",
   "language": "python",
   "name": "python3"
  },
  "language_info": {
   "codemirror_mode": {
    "name": "ipython",
    "version": 3
   },
   "file_extension": ".py",
   "mimetype": "text/x-python",
   "name": "python",
   "nbconvert_exporter": "python",
   "pygments_lexer": "ipython3",
   "version": "3.8.10"
  },
  "orig_nbformat": 4
 },
 "nbformat": 4,
 "nbformat_minor": 2
}
