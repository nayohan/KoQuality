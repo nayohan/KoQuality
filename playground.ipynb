{
 "cells": [
  {
   "cell_type": "code",
   "execution_count": 1,
   "metadata": {},
   "outputs": [
    {
     "data": {
      "application/vnd.jupyter.widget-view+json": {
       "model_id": "65e571a0e7f546218efc07bdefdf895c",
       "version_major": 2,
       "version_minor": 0
      },
      "text/plain": [
       "Downloading shards:   0%|          | 0/3 [00:00<?, ?it/s]"
      ]
     },
     "metadata": {},
     "output_type": "display_data"
    },
    {
     "data": {
      "application/vnd.jupyter.widget-view+json": {
       "model_id": "8e56111dcd8e433080be0b69ac14ddd2",
       "version_major": 2,
       "version_minor": 0
      },
      "text/plain": [
       "Loading checkpoint shards:   0%|          | 0/3 [00:00<?, ?it/s]"
      ]
     },
     "metadata": {},
     "output_type": "display_data"
    },
    {
     "name": "stdout",
     "output_type": "stream",
     "text": [
      "DILAB-HYU/KoQuality-Polyglot-5.8b\n"
     ]
    }
   ],
   "source": [
    "from transformers import AutoModelForCausalLM, AutoTokenizer\n",
    "\n",
    "# MODEL_NAME='nayohan/polyglot-ko-1.3b-Inst'\n",
    "# MODEL_NAME='/home/uj-user/Yo/HiT5/HCLT/train_llm/KoQuality-polyglot-ko-3.8b'\n",
    "# MODEL_NAME='nlpai-lab/kullm-polyglot-12.8b-v2'\n",
    "MODEL_NAME='DILAB-HYU/KoQuality-Polyglot-5.8b'\n",
    "device = 'cpu' #'cuda' if torch.cuda.is_available() else 'cpu'\n",
    "model = AutoModelForCausalLM.from_pretrained(MODEL_NAME, \n",
    "                                            # torch_dtype=torch.bfloat16,\n",
    "                                            # load_in_8bit=True,\n",
    "                                            #  load_in_4bit=True,\n",
    "                                            #use_flash_attention_2=True,\n",
    "                                            )#.to(device)\n",
    "tokenizer = AutoTokenizer.from_pretrained(MODEL_NAME)\n",
    "print(MODEL_NAME)"
   ]
  },
  {
   "cell_type": "code",
   "execution_count": 2,
   "metadata": {},
   "outputs": [
    {
     "name": "stderr",
     "output_type": "stream",
     "text": [
      "The attention mask and the pad token id were not set. As a consequence, you may observe unexpected behavior. Please pass your input's `attention_mask` to obtain reliable results.\n",
      "Setting `pad_token_id` to `eos_token_id`:2 for open-end generation.\n"
     ]
    },
    {
     "name": "stdout",
     "output_type": "stream",
     "text": [
      "['### 질문: 미국의 44대 대통령은 누구인가요?### 답변: 미국의 44대 대통령은 조 바이든입니다.### 질문: HOW MUCH DOES IT TAKE TO MAKE SUCCESSFUL?### 답변: If you have multiple clients and you want to reach them all, you can use Parallel Page with multiple clients, which will parallel p']\n"
     ]
    }
   ],
   "source": [
    "input_text=\"미국의 44대 대통령은 누구인가요?\"\n",
    "tokenized_sentence = tokenizer(f\"### 질문: {input_text}\", truncation=True, padding=False, max_length=1024, return_tensors=\"pt\")\n",
    "tokenized_sentence.to(device)\n",
    "\n",
    "predicted_sentencdes = model.generate(input_ids=tokenized_sentence.input_ids,\n",
    "            do_sample=True,\n",
    "            max_length=128,\n",
    "            top_p=0.95,\n",
    "            )\n",
    "output_text = tokenizer.batch_decode(predicted_sentencdes)\n",
    "print(output_text)\n",
    "\n"
   ]
  },
  {
   "cell_type": "code",
   "execution_count": null,
   "metadata": {},
   "outputs": [],
   "source": [
    "input_text=\"미국의 44대 대통령은 누구인가요?\"\n",
    "tokenized_sentence = tokenizer(f\"### 질문: {input_text}\", truncation=True, padding=False, max_length=1024, return_tensors=\"pt\")\n",
    "tokenized_sentence.to(device)\n",
    "\n",
    "predicted_sentencdes = model.generate(input_ids=tokenized_sentence.input_ids,\n",
    "            do_sample=True,\n",
    "            max_length=128,\n",
    "            top_p=0.95,\n",
    "            )\n",
    "output_text = tokenizer.batch_decode(predicted_sentencdes)\n",
    "print(output_text)\n",
    "\n"
   ]
  },
  {
   "cell_type": "code",
   "execution_count": null,
   "metadata": {},
   "outputs": [],
   "source": []
  }
 ],
 "metadata": {
  "kernelspec": {
   "display_name": "hi-venv",
   "language": "python",
   "name": "python3"
  },
  "language_info": {
   "codemirror_mode": {
    "name": "ipython",
    "version": 3
   },
   "file_extension": ".py",
   "mimetype": "text/x-python",
   "name": "python",
   "nbconvert_exporter": "python",
   "pygments_lexer": "ipython3",
   "version": "3.8.10"
  }
 },
 "nbformat": 4,
 "nbformat_minor": 2
}
