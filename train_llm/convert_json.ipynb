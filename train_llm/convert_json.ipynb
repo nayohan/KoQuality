{
 "cells": [
  {
   "cell_type": "code",
   "execution_count": 6,
   "metadata": {},
   "outputs": [
    {
     "name": "stdout",
     "output_type": "stream",
     "text": [
      "../gen_dataset_curation/results_final_len10/len10_k1_mppl_n0.01.json\n",
      "../gen_dataset_curation/results_final_len10/len10_k1_mppl_n0.05.json\n",
      "../gen_dataset_curation/results_final_len10/len10_k20_mppl_h_n0.05.json\n",
      "../gen_dataset_curation/results_final_len10/len10_k10_mrand_n0.01.json\n",
      "../gen_dataset_curation/results_final_len10/len10_k20_mppl_h_n0.1.json\n",
      "../gen_dataset_curation/results_final_len10/len10_k10_mppl_n0.1.json\n",
      "../gen_dataset_curation/results_final_len10/len10_k1_mppl_h_n0.05.json\n",
      "../gen_dataset_curation/results_final_len10/len10_k20_mrand_n0.05.json\n",
      "../gen_dataset_curation/results_final_len10/len10_k100_mppl_n0.01.json\n",
      "../gen_dataset_curation/results_final_len10/len10_k10_mppl_n0.01.json\n",
      "../gen_dataset_curation/results_final_len10/len10_k10_mppl_n0.05.json\n",
      "../gen_dataset_curation/results_final_len10/len10_k100_mrand_n0.1.json\n",
      "../gen_dataset_curation/results_final_len10/len10_k10_mrand_n0.1.json\n",
      "../gen_dataset_curation/results_final_len10/len10_k20_mppl_h_n0.01.json\n",
      "../gen_dataset_curation/results_final_len10/len10_k20_mppl_n0.01.json\n",
      "../gen_dataset_curation/results_final_len10/len10_k100_mppl_n0.05.json\n",
      "../gen_dataset_curation/results_final_len10/len10_k1_mppl_h_n0.01.json\n",
      "../gen_dataset_curation/results_final_len10/len10_k1_mrand_n0.01.json\n",
      "../gen_dataset_curation/results_final_len10/len10_k1_mppl_h_n0.1.json\n",
      "../gen_dataset_curation/results_final_len10/len10_k1_mrand_n0.05.json\n",
      "../gen_dataset_curation/results_final_len10/len10_k50_mppl_h_n0.05.json\n",
      "../gen_dataset_curation/results_final_len10/len10_k50_mrand_n0.05.json\n",
      "../gen_dataset_curation/results_final_len10/len10_k1_mrand_n0.1.json\n",
      "../gen_dataset_curation/results_final_len10/len10_k100_mppl_h_n0.1.json\n",
      "../gen_dataset_curation/results_final_len10/len10_k10_mrand_n0.05.json\n",
      "../gen_dataset_curation/results_final_len10/len10_k100_mrand_n0.01.json\n",
      "../gen_dataset_curation/results_final_len10/len10_k50_mppl_n0.1.json\n",
      "../gen_dataset_curation/results_final_len10/len10_k1_mppl_n0.1.json\n",
      "../gen_dataset_curation/results_final_len10/len10_k20_mppl_n0.1.json\n",
      "../gen_dataset_curation/results_final_len10/len10_k50_mppl_n0.05.json\n",
      "../gen_dataset_curation/results_final_len10/len10_k20_mppl_n0.05.json\n",
      "../gen_dataset_curation/results_final_len10/len10_k50_mrand_n0.01.json\n",
      "../gen_dataset_curation/results_final_len10/len10_k50_mrand_n0.1.json\n",
      "../gen_dataset_curation/results_final_len10/len10_k50_mppl_h_n0.01.json\n",
      "../gen_dataset_curation/results_final_len10/len10_k100_mppl_h_n0.05.json\n",
      "../gen_dataset_curation/results_final_len10/len10_k10_mppl_h_n0.01.json\n",
      "../gen_dataset_curation/results_final_len10/len10_k10_mppl_h_n0.05.json\n",
      "../gen_dataset_curation/results_final_len10/len10_k100_mppl_h_n0.01.json\n"
     ]
    },
    {
     "ename": "KeyError",
     "evalue": "'instruction'",
     "output_type": "error",
     "traceback": [
      "\u001b[0;31m---------------------------------------------------------------------------\u001b[0m",
      "\u001b[0;31mKeyError\u001b[0m                                  Traceback (most recent call last)",
      "File \u001b[0;32m~/Yo/HiT5/hi-venv/lib/python3.8/site-packages/pandas/core/indexes/base.py:3621\u001b[0m, in \u001b[0;36mIndex.get_loc\u001b[0;34m(self, key, method, tolerance)\u001b[0m\n\u001b[1;32m   3620\u001b[0m \u001b[39mtry\u001b[39;00m:\n\u001b[0;32m-> 3621\u001b[0m     \u001b[39mreturn\u001b[39;00m \u001b[39mself\u001b[39;49m\u001b[39m.\u001b[39;49m_engine\u001b[39m.\u001b[39;49mget_loc(casted_key)\n\u001b[1;32m   3622\u001b[0m \u001b[39mexcept\u001b[39;00m \u001b[39mKeyError\u001b[39;00m \u001b[39mas\u001b[39;00m err:\n",
      "File \u001b[0;32m~/Yo/HiT5/hi-venv/lib/python3.8/site-packages/pandas/_libs/index.pyx:136\u001b[0m, in \u001b[0;36mpandas._libs.index.IndexEngine.get_loc\u001b[0;34m()\u001b[0m\n",
      "File \u001b[0;32m~/Yo/HiT5/hi-venv/lib/python3.8/site-packages/pandas/_libs/index.pyx:144\u001b[0m, in \u001b[0;36mpandas._libs.index.IndexEngine.get_loc\u001b[0;34m()\u001b[0m\n",
      "File \u001b[0;32mpandas/_libs/index_class_helper.pxi:20\u001b[0m, in \u001b[0;36mpandas._libs.index.Float64Engine._check_type\u001b[0;34m()\u001b[0m\n",
      "\u001b[0;31mKeyError\u001b[0m: 'instruction'",
      "\nThe above exception was the direct cause of the following exception:\n",
      "\u001b[0;31mKeyError\u001b[0m                                  Traceback (most recent call last)",
      "\u001b[1;32m/home/uj-user/Yo/HiT5/HCLT/train_llm/convert_json.ipynb Cell 1\u001b[0m line \u001b[0;36m1\n\u001b[1;32m     <a href='vscode-notebook-cell://ssh-remote%2B61.41.8.123/home/uj-user/Yo/HiT5/HCLT/train_llm/convert_json.ipynb#W0sdnNjb2RlLXJlbW90ZQ%3D%3D?line=11'>12</a>\u001b[0m \u001b[39mprint\u001b[39m(path)\n\u001b[1;32m     <a href='vscode-notebook-cell://ssh-remote%2B61.41.8.123/home/uj-user/Yo/HiT5/HCLT/train_llm/convert_json.ipynb#W0sdnNjb2RlLXJlbW90ZQ%3D%3D?line=12'>13</a>\u001b[0m df \u001b[39m=\u001b[39m pd\u001b[39m.\u001b[39mread_json(path, orient\u001b[39m=\u001b[39m\u001b[39m'\u001b[39m\u001b[39mrecords\u001b[39m\u001b[39m'\u001b[39m, lines\u001b[39m=\u001b[39m\u001b[39mTrue\u001b[39;00m)\n\u001b[0;32m---> <a href='vscode-notebook-cell://ssh-remote%2B61.41.8.123/home/uj-user/Yo/HiT5/HCLT/train_llm/convert_json.ipynb#W0sdnNjb2RlLXJlbW90ZQ%3D%3D?line=13'>14</a>\u001b[0m df[\u001b[39m'\u001b[39m\u001b[39mtext\u001b[39m\u001b[39m'\u001b[39m] \u001b[39m=\u001b[39m \u001b[39m'\u001b[39m\u001b[39m### 질문: \u001b[39m\u001b[39m'\u001b[39m \u001b[39m+\u001b[39m df[\u001b[39m'\u001b[39;49m\u001b[39minstruction\u001b[39;49m\u001b[39m'\u001b[39;49m] \u001b[39m+\u001b[39m \u001b[39m'\u001b[39m\u001b[39m### 답변: \u001b[39m\u001b[39m'\u001b[39m \u001b[39m+\u001b[39m df[\u001b[39m'\u001b[39m\u001b[39moutput\u001b[39m\u001b[39m'\u001b[39m]\n\u001b[1;32m     <a href='vscode-notebook-cell://ssh-remote%2B61.41.8.123/home/uj-user/Yo/HiT5/HCLT/train_llm/convert_json.ipynb#W0sdnNjb2RlLXJlbW90ZQ%3D%3D?line=14'>15</a>\u001b[0m preprocessed_df \u001b[39m=\u001b[39m df\u001b[39m.\u001b[39mloc[:, [\u001b[39m'\u001b[39m\u001b[39mtext\u001b[39m\u001b[39m'\u001b[39m]]\n\u001b[1;32m     <a href='vscode-notebook-cell://ssh-remote%2B61.41.8.123/home/uj-user/Yo/HiT5/HCLT/train_llm/convert_json.ipynb#W0sdnNjb2RlLXJlbW90ZQ%3D%3D?line=15'>16</a>\u001b[0m preprocessed_df\u001b[39m.\u001b[39mto_json(save_path \u001b[39m+\u001b[39m path\u001b[39m.\u001b[39msplit(\u001b[39m'\u001b[39m\u001b[39m/\u001b[39m\u001b[39m'\u001b[39m)[\u001b[39m-\u001b[39m\u001b[39m1\u001b[39m], orient\u001b[39m=\u001b[39m\u001b[39m'\u001b[39m\u001b[39mrecords\u001b[39m\u001b[39m'\u001b[39m, lines\u001b[39m=\u001b[39m\u001b[39mTrue\u001b[39;00m, force_ascii\u001b[39m=\u001b[39m\u001b[39mFalse\u001b[39;00m)\n",
      "File \u001b[0;32m~/Yo/HiT5/hi-venv/lib/python3.8/site-packages/pandas/core/frame.py:3505\u001b[0m, in \u001b[0;36mDataFrame.__getitem__\u001b[0;34m(self, key)\u001b[0m\n\u001b[1;32m   3503\u001b[0m \u001b[39mif\u001b[39;00m \u001b[39mself\u001b[39m\u001b[39m.\u001b[39mcolumns\u001b[39m.\u001b[39mnlevels \u001b[39m>\u001b[39m \u001b[39m1\u001b[39m:\n\u001b[1;32m   3504\u001b[0m     \u001b[39mreturn\u001b[39;00m \u001b[39mself\u001b[39m\u001b[39m.\u001b[39m_getitem_multilevel(key)\n\u001b[0;32m-> 3505\u001b[0m indexer \u001b[39m=\u001b[39m \u001b[39mself\u001b[39;49m\u001b[39m.\u001b[39;49mcolumns\u001b[39m.\u001b[39;49mget_loc(key)\n\u001b[1;32m   3506\u001b[0m \u001b[39mif\u001b[39;00m is_integer(indexer):\n\u001b[1;32m   3507\u001b[0m     indexer \u001b[39m=\u001b[39m [indexer]\n",
      "File \u001b[0;32m~/Yo/HiT5/hi-venv/lib/python3.8/site-packages/pandas/core/indexes/base.py:3623\u001b[0m, in \u001b[0;36mIndex.get_loc\u001b[0;34m(self, key, method, tolerance)\u001b[0m\n\u001b[1;32m   3621\u001b[0m     \u001b[39mreturn\u001b[39;00m \u001b[39mself\u001b[39m\u001b[39m.\u001b[39m_engine\u001b[39m.\u001b[39mget_loc(casted_key)\n\u001b[1;32m   3622\u001b[0m \u001b[39mexcept\u001b[39;00m \u001b[39mKeyError\u001b[39;00m \u001b[39mas\u001b[39;00m err:\n\u001b[0;32m-> 3623\u001b[0m     \u001b[39mraise\u001b[39;00m \u001b[39mKeyError\u001b[39;00m(key) \u001b[39mfrom\u001b[39;00m \u001b[39merr\u001b[39;00m\n\u001b[1;32m   3624\u001b[0m \u001b[39mexcept\u001b[39;00m \u001b[39mTypeError\u001b[39;00m:\n\u001b[1;32m   3625\u001b[0m     \u001b[39m# If we have a listlike key, _check_indexing_error will raise\u001b[39;00m\n\u001b[1;32m   3626\u001b[0m     \u001b[39m#  InvalidIndexError. Otherwise we fall through and re-raise\u001b[39;00m\n\u001b[1;32m   3627\u001b[0m     \u001b[39m#  the TypeError.\u001b[39;00m\n\u001b[1;32m   3628\u001b[0m     \u001b[39mself\u001b[39m\u001b[39m.\u001b[39m_check_indexing_error(key)\n",
      "\u001b[0;31mKeyError\u001b[0m: 'instruction'"
     ]
    }
   ],
   "source": [
    "import os\n",
    "import pandas as pd\n",
    "from glob import glob\n",
    "\n",
    "len = 10\n",
    "dataset_path = f'../gen_dataset_curation/results_final_len{len}/*'\n",
    "save_path = f'./train_dataset/results_final_len{len}/'\n",
    "os.makedirs(save_path, exist_ok=True)\n",
    "\n",
    "dataset_path_list = glob(dataset_path)\n",
    "for path in dataset_path_list:\n",
    "    print(path)\n",
    "    df = pd.read_json(path, orient='records', lines=True)\n",
    "    df['text'] = '### 질문: ' + df['instruction'] + '### 답변: ' + df['output']\n",
    "    preprocessed_df = df.loc[:, ['text']]\n",
    "    preprocessed_df.to_json(save_path + path.split('/')[-1], orient='records', lines=True, force_ascii=False)"
   ]
  },
  {
   "cell_type": "code",
   "execution_count": 4,
   "metadata": {},
   "outputs": [
    {
     "data": {
      "text/plain": [
       "['../gen_dataset_curation/results_final_len10/result_len10_k20_mppl_n0.05.json',\n",
       " '../gen_dataset_curation/results_final_len10/result_len10_k100_mppl_h_n0.1.json',\n",
       " '../gen_dataset_curation/results_final_len10/result_len10_k100_mrand_n0.05.json',\n",
       " '../gen_dataset_curation/results_final_len10/result_len10_k1_mrand_n0.1.json',\n",
       " '../gen_dataset_curation/results_final_len10/result_len10_k1_mrand_n0.05.json',\n",
       " '../gen_dataset_curation/results_final_len10/result_len10_k20_mrand_n0.05.json',\n",
       " '../gen_dataset_curation/results_final_len10/result_len10_k20_mppl_h_n0.01.json',\n",
       " '../gen_dataset_curation/results_final_len10/result_len10_k50_mppl_h_n0.01.json',\n",
       " '../gen_dataset_curation/results_final_len10/result_len10_k1_mppl_h_n0.05.json',\n",
       " '../gen_dataset_curation/results_final_len10/result_len10_k10_mppl_h_n0.05.json',\n",
       " '../gen_dataset_curation/results_final_len10/result_len10_k50_mppl_n0.01.json',\n",
       " '../gen_dataset_curation/results_final_len10/result_len10_k100_mrand_n0.1.json',\n",
       " '../gen_dataset_curation/results_final_len10/result_len10_k1_mppl_n0.05.json',\n",
       " '../gen_dataset_curation/results_final_len10/result_len10_k10_mppl_h_n0.01.json',\n",
       " '../gen_dataset_curation/results_final_len10/result_len10_k50_mrand_n0.01.json',\n",
       " '../gen_dataset_curation/results_final_len10/result_len10_k10_mppl_n0.01.json',\n",
       " '../gen_dataset_curation/results_final_len10/result_len10_k10_mppl_n0.1.json',\n",
       " '../gen_dataset_curation/results_final_len10/result_len10_k10_mppl_n0.05.json',\n",
       " '../gen_dataset_curation/results_final_len10/result_len10_k10_mrand_n0.1.json',\n",
       " '../gen_dataset_curation/results_final_len10/result_len10_k20_mppl_h_n0.1.json',\n",
       " '../gen_dataset_curation/results_final_len10/result_len10_k1_mppl_h_n0.1.json',\n",
       " '../gen_dataset_curation/results_final_len10/result_len10_k1_mppl_h_n0.01.json',\n",
       " '../gen_dataset_curation/results_final_len10/result_len10_k20_mrand_n0.01.json',\n",
       " '../gen_dataset_curation/results_final_len10/result_len10_k100_mppl_n0.01.json',\n",
       " '../gen_dataset_curation/results_final_len10/result_len10_k50_mrand_n0.1.json',\n",
       " '../gen_dataset_curation/results_final_len10/result_len10_k50_mrand_n0.05.json',\n",
       " '../gen_dataset_curation/results_final_len10/result_len10_k100_mppl_n0.1.json',\n",
       " '../gen_dataset_curation/results_final_len10/result_len10_k100_mrand_n0.01.json',\n",
       " '../gen_dataset_curation/results_final_len10/result_len10_k100_mppl_n0.05.json',\n",
       " '../gen_dataset_curation/results_final_len10/result_len10_k100_mppl_h_n0.05.json',\n",
       " '../gen_dataset_curation/results_final_len10/result_len10_k20_mppl_n0.01.json',\n",
       " '../gen_dataset_curation/results_final_len10/result_len10_k20_mrand_n0.1.json',\n",
       " '../gen_dataset_curation/results_final_len10/result_len10_k1_mppl_n0.01.json',\n",
       " '../gen_dataset_curation/results_final_len10/result_len10_k50_mppl_h_n0.05.json',\n",
       " '../gen_dataset_curation/results_final_len10/result_len10_k50_mppl_h_n0.1.json',\n",
       " '../gen_dataset_curation/results_final_len10/result_len10_k1_mppl_n0.1.json',\n",
       " '../gen_dataset_curation/results_final_len10/result_len10_k1_mrand_n0.01.json',\n",
       " '../gen_dataset_curation/results_final_len10/result_len10_k10_mrand_n0.05.json',\n",
       " '../gen_dataset_curation/results_final_len10/result_len10_k20_mppl_h_n0.05.json',\n",
       " '../gen_dataset_curation/results_final_len10/result_len10_k50_mppl_n0.05.json',\n",
       " '../gen_dataset_curation/results_final_len10/result_len10_k10_mrand_n0.01.json',\n",
       " '../gen_dataset_curation/results_final_len10/result_len10_k20_mppl_n0.1.json',\n",
       " '../gen_dataset_curation/results_final_len10/result_len10_k50_mppl_n0.1.json',\n",
       " '../gen_dataset_curation/results_final_len10/result_len10_k100_mppl_h_n0.01.json',\n",
       " '../gen_dataset_curation/results_final_len10/result_len10_k10_mppl_h_n0.1.json']"
      ]
     },
     "execution_count": 4,
     "metadata": {},
     "output_type": "execute_result"
    }
   ],
   "source": [
    "dataset_path_list"
   ]
  },
  {
   "cell_type": "code",
   "execution_count": null,
   "metadata": {},
   "outputs": [],
   "source": []
  }
 ],
 "metadata": {
  "kernelspec": {
   "display_name": "hi-venv",
   "language": "python",
   "name": "python3"
  },
  "language_info": {
   "codemirror_mode": {
    "name": "ipython",
    "version": 3
   },
   "file_extension": ".py",
   "mimetype": "text/x-python",
   "name": "python",
   "nbconvert_exporter": "python",
   "pygments_lexer": "ipython3",
   "version": "3.8.10"
  },
  "orig_nbformat": 4
 },
 "nbformat": 4,
 "nbformat_minor": 2
}
