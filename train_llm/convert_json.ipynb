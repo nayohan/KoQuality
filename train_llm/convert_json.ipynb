{
 "cells": [
  {
   "cell_type": "code",
   "execution_count": 2,
   "metadata": {},
   "outputs": [],
   "source": [
    "## for our datsets\n",
    "import os\n",
    "import pandas as pd\n",
    "from glob import glob\n",
    "from datasets import load_dataset\n"
   ]
  },
  {
   "cell_type": "code",
   "execution_count": 1,
   "metadata": {},
   "outputs": [
    {
     "name": "stdout",
     "output_type": "stream",
     "text": [
      "../gen_dataset_curation/results_final_len5/len5_k50_mppl_n0.1.json\n",
      "../gen_dataset_curation/results_final_len5/len5_k10_mppl_n0.01.json\n",
      "../gen_dataset_curation/results_final_len5/len5_k20_mppl_n0.05.json\n",
      "../gen_dataset_curation/results_final_len5/len5_k1_mppl_h_n0.1.json\n",
      "../gen_dataset_curation/results_final_len5/len5_k20_mrand_n0.05.json\n",
      "../gen_dataset_curation/results_final_len5/len5_k100_mppl_h_n0.01.json\n",
      "../gen_dataset_curation/results_final_len5/len5_k50_mppl_h_n0.05.json\n",
      "../gen_dataset_curation/results_final_len5/len5_k20_mrand_n0.1.json\n",
      "../gen_dataset_curation/results_final_len5/len5_k100_mppl_n0.01.json\n",
      "../gen_dataset_curation/results_final_len5/len5_k1_mppl_n0.01.json\n",
      "../gen_dataset_curation/results_final_len5/len5_k100_mppl_n0.1.json\n",
      "../gen_dataset_curation/results_final_len5/len5_k100_mrand_n0.05.json\n",
      "../gen_dataset_curation/results_final_len5/len5_k20_mppl_n0.1.json\n",
      "../gen_dataset_curation/results_final_len5/len5_k50_mrand_n0.1.json\n",
      "../gen_dataset_curation/results_final_len5/len5_k100_mppl_h_n0.05.json\n",
      "../gen_dataset_curation/results_final_len5/len5_k20_mrand_n0.01.json\n",
      "../gen_dataset_curation/results_final_len5/len5_k20_mppl_h_n0.01.json\n",
      "../gen_dataset_curation/results_final_len5/len5_k20_mppl_n0.01.json\n",
      "../gen_dataset_curation/results_final_len5/len5_k1_mppl_n0.1.json\n",
      "../gen_dataset_curation/results_final_len5/len5_k50_mrand_n0.01.json\n",
      "../gen_dataset_curation/results_final_len5/len5_k50_mppl_h_n0.1.json\n",
      "../gen_dataset_curation/results_final_len5/len5_k1_mrand_n0.01.json\n",
      "../gen_dataset_curation/results_final_len5/len5_k50_mppl_h_n0.01.json\n",
      "../gen_dataset_curation/results_final_len5/len5_k10_mppl_n0.1.json\n",
      "../gen_dataset_curation/results_final_len5/len5_k100_mppl_h_n0.1.json\n",
      "../gen_dataset_curation/results_final_len5/len5_k10_mppl_h_n0.1.json\n",
      "../gen_dataset_curation/results_final_len5/len5_k20_mppl_h_n0.05.json\n",
      "../gen_dataset_curation/results_final_len5/len5_k10_mppl_n0.05.json\n",
      "../gen_dataset_curation/results_final_len5/len5_k10_mrand_n0.05.json\n",
      "../gen_dataset_curation/results_final_len5/len5_k1_mrand_n0.1.json\n",
      "../gen_dataset_curation/results_final_len5/len5_k10_mrand_n0.01.json\n",
      "../gen_dataset_curation/results_final_len5/len5_k100_mrand_n0.01.json\n",
      "../gen_dataset_curation/results_final_len5/len5_k1_mppl_h_n0.05.json\n",
      "../gen_dataset_curation/results_final_len5/len5_k50_mrand_n0.05.json\n",
      "../gen_dataset_curation/results_final_len5/len5_k100_mppl_n0.05.json\n",
      "../gen_dataset_curation/results_final_len5/len5_k100_mrand_n0.1.json\n",
      "../gen_dataset_curation/results_final_len5/len5_k10_mrand_n0.1.json\n",
      "../gen_dataset_curation/results_final_len5/len5_k1_mrand_n0.05.json\n",
      "../gen_dataset_curation/results_final_len5/len5_k10_mppl_h_n0.05.json\n",
      "../gen_dataset_curation/results_final_len5/len5_k50_mppl_n0.01.json\n",
      "../gen_dataset_curation/results_final_len5/len5_k20_mppl_h_n0.1.json\n",
      "../gen_dataset_curation/results_final_len5/len5_k1_mppl_n0.05.json\n",
      "../gen_dataset_curation/results_final_len5/len5_k1_mppl_h_n0.01.json\n",
      "../gen_dataset_curation/results_final_len5/len5_k50_mppl_n0.05.json\n",
      "../gen_dataset_curation/results_final_len5/len5_k10_mppl_h_n0.01.json\n"
     ]
    }
   ],
   "source": [
    "\n",
    "\n",
    "len = 5\n",
    "dataset_path = f'../gen_dataset_curation/results_final_len{len}/*'\n",
    "save_path = f'./train_dataset/results_final_len{len}/'\n",
    "os.makedirs(save_path, exist_ok=True)\n",
    "\n",
    "dataset_path_list = glob(dataset_path)\n",
    "for path in dataset_path_list:\n",
    "    print(path)\n",
    "    df = pd.read_json(path, orient='records', lines=True)\n",
    "    df['text'] = '### 질문: ' + df['instruction'] + '### 답변: ' + df['output']\n",
    "    preprocessed_df = df.loc[:, ['text']]\n",
    "    preprocessed_df.to_json(save_path + path.split('/')[-1], orient='records', lines=True, force_ascii=False)"
   ]
  },
  {
   "cell_type": "code",
   "execution_count": null,
   "metadata": {},
   "outputs": [],
   "source": [
    "## for other datasets"
   ]
  },
  {
   "cell_type": "code",
   "execution_count": null,
   "metadata": {},
   "outputs": [],
   "source": [
    "\n",
    "data = load_dataset('nlpai-lab/kullm-v2')\n",
    "df_data = pd.DataFrame(data['train'])\n",
    "\n",
    "df_data.to_json('./kullm-v2.json', lines=True, orient='records')\n",
    "\n",
    "\n",
    "len = 10\n",
    "path = '/home/uj-user/Yo/HiT5/HCLT/train_llm/kullm-v2.json'\n",
    "save_path = f'./train_dataset/'\n",
    "os.makedirs(save_path, exist_ok=True)\n",
    "\n",
    "df = pd.read_json(path, orient='records', lines=True)\n",
    "df['text'] = '### 질문: ' + df['instruction'] + '### 답변: ' + df['output']\n",
    "preprocessed_df = df.loc[:, ['text']]\n",
    "preprocessed_df.to_json(save_path + path.split('/')[-1], orient='records', lines=True, force_ascii=False)"
   ]
  },
  {
   "cell_type": "code",
   "execution_count": 3,
   "metadata": {},
   "outputs": [
    {
     "name": "stderr",
     "output_type": "stream",
     "text": [
      "Found cached dataset parquet (/home/uj-user/.cache/huggingface/datasets/nayohan___parquet/nayohan--koquality_raw-291cb84e65683ff4/0.0.0/2a3b91fbd88a2c90d1dbbb32b460cf621d31bd5b05b934492fdef7d8d6f236ec)\n"
     ]
    },
    {
     "data": {
      "application/vnd.jupyter.widget-view+json": {
       "model_id": "7a9323a82f22403b8af41c6469d41416",
       "version_major": 2,
       "version_minor": 0
      },
      "text/plain": [
       "  0%|          | 0/1 [00:00<?, ?it/s]"
      ]
     },
     "metadata": {},
     "output_type": "display_data"
    }
   ],
   "source": [
    "\n",
    "data = load_dataset('nayohan/koquality_raw')\n",
    "df_data = pd.DataFrame(data['train'])\n",
    "\n",
    "df_data.to_json('./koquality_raw.json', lines=True, orient='records')\n",
    "\n",
    "\n",
    "path = '/home/uj-user/Yo/HiT5/HCLT/train_llm/koquality_raw.json'\n",
    "save_path = f'./train_dataset/'\n",
    "os.makedirs(save_path, exist_ok=True)\n",
    "\n",
    "df = pd.read_json(path, orient='records', lines=True)\n",
    "df['text'] = '### 질문: ' + df['instruction'] + '### 답변: ' + df['output']\n",
    "preprocessed_df = df.loc[:, ['text']]\n",
    "preprocessed_df.to_json(save_path + path.split('/')[-1], orient='records', lines=True, force_ascii=False)"
   ]
  }
 ],
 "metadata": {
  "kernelspec": {
   "display_name": "hi-venv",
   "language": "python",
   "name": "python3"
  },
  "language_info": {
   "codemirror_mode": {
    "name": "ipython",
    "version": 3
   },
   "file_extension": ".py",
   "mimetype": "text/x-python",
   "name": "python",
   "nbconvert_exporter": "python",
   "pygments_lexer": "ipython3",
   "version": "3.8.10"
  },
  "orig_nbformat": 4
 },
 "nbformat": 4,
 "nbformat_minor": 2
}
