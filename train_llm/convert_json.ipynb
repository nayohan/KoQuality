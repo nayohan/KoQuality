{
 "cells": [
  {
   "cell_type": "code",
   "execution_count": 1,
   "metadata": {},
   "outputs": [],
   "source": [
    "import os\n",
    "import pandas as pd\n",
    "from glob import glob\n",
    "\n",
    "len = 10\n",
    "dataset_path = f'./gen_dataset_curation/final_results_len{len}/*'\n",
    "save_path = f'./train_dataset/final_results_len{len}/'\n",
    "os.makedirs(save_path, exist_ok=True)\n",
    "\n",
    "dataset_path_list = glob(dataset_path)\n",
    "for path in dataset_path_list:\n",
    "    df = pd.read_json(path, orient='records', lines=True)\n",
    "    df['text'] = '### 질문: ' + df['instruction'] + '### 답변: ' + df['output']\n",
    "    preprocessed_df = df.loc[:, ['text']]\n",
    "    preprocessed_df.to_json(save_path + path.split('/')[-1], orient='records', lines=True, force_ascii=False)"
   ]
  }
 ],
 "metadata": {
  "kernelspec": {
   "display_name": "hi-venv",
   "language": "python",
   "name": "python3"
  },
  "language_info": {
   "codemirror_mode": {
    "name": "ipython",
    "version": 3
   },
   "file_extension": ".py",
   "mimetype": "text/x-python",
   "name": "python",
   "nbconvert_exporter": "python",
   "pygments_lexer": "ipython3",
   "version": "3.8.10"
  },
  "orig_nbformat": 4
 },
 "nbformat": 4,
 "nbformat_minor": 2
}
